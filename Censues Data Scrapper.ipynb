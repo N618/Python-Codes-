{
 "cells": [
  {
   "cell_type": "code",
   "execution_count": 1,
   "id": "b5bf43f4",
   "metadata": {},
   "outputs": [],
   "source": [
    "import requests\n",
    "import queue\n",
    "# import telegram\n",
    "from bs4 import BeautifulSoup\n",
    "# import telegram.ext\n",
    "# from telegram.ext import Updater, CommandHandler\n",
    "import requests\n",
    "from bs4 import BeautifulSoup\n",
    "import numpy as np\n",
    "import pandas as pd\n",
    "import html5lib\n",
    "import lxml\n",
    "import xlsxwriter\n",
    "from datetime import date\n",
    "import googletrans\n",
    "from googletrans import Translator\n",
    "import smtplib, ssl\n",
    "from smtplib import SMTP_SSL\n",
    "from email.mime.multipart import MIMEMultipart\n",
    "from email.mime.text import MIMEText\n",
    "from email.mime.base import MIMEBase\n",
    "from email import encoders\n",
    "from win32com import client\n",
    "from datetime import datetime\n",
    "import schedule\n",
    "import time\n",
    "from datetime import date\n",
    "from datetime import timedelta\n",
    "import textwrap\n",
    "import psycopg2\n",
    "import sqlalchemy\n",
    "from sqlalchemy import create_engine, MetaData, Table, Column, Integer, String\n",
    "import selenium\n",
    "from selenium import webdriver\n",
    "from selenium.webdriver.chrome.options import Options\n",
    "from selenium.webdriver.common.keys import Keys\n",
    "from selenium.webdriver.common.by import By\n",
    "from selenium.webdriver.support.ui import WebDriverWait\n",
    "from selenium.common.exceptions import ElementClickInterceptedException\n",
    "from selenium.webdriver.chrome.options import Options\n",
    "#import pyshorteners\n",
    "import tempfile\n",
    "from selenium.webdriver.common.by import By\n",
    "from selenium.webdriver.support.ui import WebDriverWait\n",
    "from selenium.webdriver.support import expected_conditions as EC  # Import expected_conditions module\n",
    "from selenium import webdriver\n",
    "from selenium.webdriver.support.ui import Select\n"
   ]
  },
  {
   "cell_type": "code",
   "execution_count": 4,
   "id": "2eb8efa8",
   "metadata": {},
   "outputs": [],
   "source": [
    "url='https://www.censusindia.co.in/states'\n",
    "r=requests.get(url)\n",
    "soup=BeautifulSoup(r.content,'lxml')\n",
    "table=soup.find('table',class_=\"table table-striped\")\n",
    "state_link=table.find_all()"
   ]
  },
  {
   "cell_type": "code",
   "execution_count": null,
   "id": "11010eb3",
   "metadata": {},
   "outputs": [],
   "source": []
  }
 ],
 "metadata": {
  "kernelspec": {
   "display_name": "Python 3 (ipykernel)",
   "language": "python",
   "name": "python3"
  },
  "language_info": {
   "codemirror_mode": {
    "name": "ipython",
    "version": 3
   },
   "file_extension": ".py",
   "mimetype": "text/x-python",
   "name": "python",
   "nbconvert_exporter": "python",
   "pygments_lexer": "ipython3",
   "version": "3.11.5"
  }
 },
 "nbformat": 4,
 "nbformat_minor": 5
}
